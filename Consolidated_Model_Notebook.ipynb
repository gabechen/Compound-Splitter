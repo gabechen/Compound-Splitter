{
  "cells": [
    {
      "cell_type": "markdown",
      "metadata": {
        "id": "8eW9a1LTDgWn"
      },
      "source": [
        "# Data Introduction:\n",
        "The data used to train this model was obtained from the Large Database of English Compounds, a database assembled by Christina L. Gagne, Thomas L. Spalding, and Daniel Schmidtke consisting of over 8,000 English closed compounds and their components. \n",
        "\n",
        "See https://era.library.ualberta.ca/items/dc3b9033-14d0-48d7-b6fa-6398a30e61e4 for more information"
      ]
    },
    {
      "cell_type": "markdown",
      "metadata": {
        "id": "tCy9Yx5JbNl7"
      },
      "source": [
        "Here we import the data as a dataframe, with the columns \"c1\" and \"c2\" being the first and second components of the compound respectively and the column \"stim\" being the compound itself."
      ]
    },
    {
      "cell_type": "code",
      "execution_count": null,
      "metadata": {
        "colab": {
          "base_uri": "https://localhost:8080/",
          "height": 424
        },
        "id": "AsO0a_CibIBJ",
        "outputId": "c207314b-db64-47f4-c333-dd4e4885d47e"
      },
      "outputs": [
        {
          "output_type": "execute_result",
          "data": {
            "text/plain": [
              "         c1     c2        stim\n",
              "0       gad  about    gadabout\n",
              "1     knock  about  knockabout\n",
              "2      turn  about   turnabout\n",
              "3      race  about   raceabout\n",
              "4      walk  about   walkabout\n",
              "...     ...    ...         ...\n",
              "8951   junk  yards   junkyards\n",
              "8952   ship  yards   shipyards\n",
              "8953   farm  yards   farmyards\n",
              "8954  brick  yards  brickyards\n",
              "8955    zig    zag      zigzag\n",
              "\n",
              "[8956 rows x 3 columns]"
            ],
            "text/html": [
              "\n",
              "  <div id=\"df-4eb47b3d-64c8-4fd5-9433-dda106a1eb30\">\n",
              "    <div class=\"colab-df-container\">\n",
              "      <div>\n",
              "<style scoped>\n",
              "    .dataframe tbody tr th:only-of-type {\n",
              "        vertical-align: middle;\n",
              "    }\n",
              "\n",
              "    .dataframe tbody tr th {\n",
              "        vertical-align: top;\n",
              "    }\n",
              "\n",
              "    .dataframe thead th {\n",
              "        text-align: right;\n",
              "    }\n",
              "</style>\n",
              "<table border=\"1\" class=\"dataframe\">\n",
              "  <thead>\n",
              "    <tr style=\"text-align: right;\">\n",
              "      <th></th>\n",
              "      <th>c1</th>\n",
              "      <th>c2</th>\n",
              "      <th>stim</th>\n",
              "    </tr>\n",
              "  </thead>\n",
              "  <tbody>\n",
              "    <tr>\n",
              "      <th>0</th>\n",
              "      <td>gad</td>\n",
              "      <td>about</td>\n",
              "      <td>gadabout</td>\n",
              "    </tr>\n",
              "    <tr>\n",
              "      <th>1</th>\n",
              "      <td>knock</td>\n",
              "      <td>about</td>\n",
              "      <td>knockabout</td>\n",
              "    </tr>\n",
              "    <tr>\n",
              "      <th>2</th>\n",
              "      <td>turn</td>\n",
              "      <td>about</td>\n",
              "      <td>turnabout</td>\n",
              "    </tr>\n",
              "    <tr>\n",
              "      <th>3</th>\n",
              "      <td>race</td>\n",
              "      <td>about</td>\n",
              "      <td>raceabout</td>\n",
              "    </tr>\n",
              "    <tr>\n",
              "      <th>4</th>\n",
              "      <td>walk</td>\n",
              "      <td>about</td>\n",
              "      <td>walkabout</td>\n",
              "    </tr>\n",
              "    <tr>\n",
              "      <th>...</th>\n",
              "      <td>...</td>\n",
              "      <td>...</td>\n",
              "      <td>...</td>\n",
              "    </tr>\n",
              "    <tr>\n",
              "      <th>8951</th>\n",
              "      <td>junk</td>\n",
              "      <td>yards</td>\n",
              "      <td>junkyards</td>\n",
              "    </tr>\n",
              "    <tr>\n",
              "      <th>8952</th>\n",
              "      <td>ship</td>\n",
              "      <td>yards</td>\n",
              "      <td>shipyards</td>\n",
              "    </tr>\n",
              "    <tr>\n",
              "      <th>8953</th>\n",
              "      <td>farm</td>\n",
              "      <td>yards</td>\n",
              "      <td>farmyards</td>\n",
              "    </tr>\n",
              "    <tr>\n",
              "      <th>8954</th>\n",
              "      <td>brick</td>\n",
              "      <td>yards</td>\n",
              "      <td>brickyards</td>\n",
              "    </tr>\n",
              "    <tr>\n",
              "      <th>8955</th>\n",
              "      <td>zig</td>\n",
              "      <td>zag</td>\n",
              "      <td>zigzag</td>\n",
              "    </tr>\n",
              "  </tbody>\n",
              "</table>\n",
              "<p>8956 rows × 3 columns</p>\n",
              "</div>\n",
              "      <button class=\"colab-df-convert\" onclick=\"convertToInteractive('df-4eb47b3d-64c8-4fd5-9433-dda106a1eb30')\"\n",
              "              title=\"Convert this dataframe to an interactive table.\"\n",
              "              style=\"display:none;\">\n",
              "        \n",
              "  <svg xmlns=\"http://www.w3.org/2000/svg\" height=\"24px\"viewBox=\"0 0 24 24\"\n",
              "       width=\"24px\">\n",
              "    <path d=\"M0 0h24v24H0V0z\" fill=\"none\"/>\n",
              "    <path d=\"M18.56 5.44l.94 2.06.94-2.06 2.06-.94-2.06-.94-.94-2.06-.94 2.06-2.06.94zm-11 1L8.5 8.5l.94-2.06 2.06-.94-2.06-.94L8.5 2.5l-.94 2.06-2.06.94zm10 10l.94 2.06.94-2.06 2.06-.94-2.06-.94-.94-2.06-.94 2.06-2.06.94z\"/><path d=\"M17.41 7.96l-1.37-1.37c-.4-.4-.92-.59-1.43-.59-.52 0-1.04.2-1.43.59L10.3 9.45l-7.72 7.72c-.78.78-.78 2.05 0 2.83L4 21.41c.39.39.9.59 1.41.59.51 0 1.02-.2 1.41-.59l7.78-7.78 2.81-2.81c.8-.78.8-2.07 0-2.86zM5.41 20L4 18.59l7.72-7.72 1.47 1.35L5.41 20z\"/>\n",
              "  </svg>\n",
              "      </button>\n",
              "      \n",
              "  <style>\n",
              "    .colab-df-container {\n",
              "      display:flex;\n",
              "      flex-wrap:wrap;\n",
              "      gap: 12px;\n",
              "    }\n",
              "\n",
              "    .colab-df-convert {\n",
              "      background-color: #E8F0FE;\n",
              "      border: none;\n",
              "      border-radius: 50%;\n",
              "      cursor: pointer;\n",
              "      display: none;\n",
              "      fill: #1967D2;\n",
              "      height: 32px;\n",
              "      padding: 0 0 0 0;\n",
              "      width: 32px;\n",
              "    }\n",
              "\n",
              "    .colab-df-convert:hover {\n",
              "      background-color: #E2EBFA;\n",
              "      box-shadow: 0px 1px 2px rgba(60, 64, 67, 0.3), 0px 1px 3px 1px rgba(60, 64, 67, 0.15);\n",
              "      fill: #174EA6;\n",
              "    }\n",
              "\n",
              "    [theme=dark] .colab-df-convert {\n",
              "      background-color: #3B4455;\n",
              "      fill: #D2E3FC;\n",
              "    }\n",
              "\n",
              "    [theme=dark] .colab-df-convert:hover {\n",
              "      background-color: #434B5C;\n",
              "      box-shadow: 0px 1px 3px 1px rgba(0, 0, 0, 0.15);\n",
              "      filter: drop-shadow(0px 1px 2px rgba(0, 0, 0, 0.3));\n",
              "      fill: #FFFFFF;\n",
              "    }\n",
              "  </style>\n",
              "\n",
              "      <script>\n",
              "        const buttonEl =\n",
              "          document.querySelector('#df-4eb47b3d-64c8-4fd5-9433-dda106a1eb30 button.colab-df-convert');\n",
              "        buttonEl.style.display =\n",
              "          google.colab.kernel.accessAllowed ? 'block' : 'none';\n",
              "\n",
              "        async function convertToInteractive(key) {\n",
              "          const element = document.querySelector('#df-4eb47b3d-64c8-4fd5-9433-dda106a1eb30');\n",
              "          const dataTable =\n",
              "            await google.colab.kernel.invokeFunction('convertToInteractive',\n",
              "                                                     [key], {});\n",
              "          if (!dataTable) return;\n",
              "\n",
              "          const docLinkHtml = 'Like what you see? Visit the ' +\n",
              "            '<a target=\"_blank\" href=https://colab.research.google.com/notebooks/data_table.ipynb>data table notebook</a>'\n",
              "            + ' to learn more about interactive tables.';\n",
              "          element.innerHTML = '';\n",
              "          dataTable['output_type'] = 'display_data';\n",
              "          await google.colab.output.renderOutput(dataTable, element);\n",
              "          const docLink = document.createElement('div');\n",
              "          docLink.innerHTML = docLinkHtml;\n",
              "          element.appendChild(docLink);\n",
              "        }\n",
              "      </script>\n",
              "    </div>\n",
              "  </div>\n",
              "  "
            ]
          },
          "metadata": {},
          "execution_count": 6
        }
      ],
      "source": [
        "import pandas as pd\n",
        "df = pd.read_csv('Ladec - Sheet1.csv',)\n",
        "df"
      ]
    },
    {
      "cell_type": "markdown",
      "metadata": {
        "id": "YhyyPr8UxSnP"
      },
      "source": [
        "# **Exploratory Data Analysis**"
      ]
    },
    {
      "cell_type": "code",
      "execution_count": null,
      "metadata": {
        "id": "_GTNnS-JMHSb"
      },
      "outputs": [],
      "source": [
        "import spacy\n",
        "import numpy as np"
      ]
    },
    {
      "cell_type": "markdown",
      "metadata": {
        "id": "UcyTzSTBD7XO"
      },
      "source": [
        "Here we see that there are 8376 unique compounds in the database:"
      ]
    },
    {
      "cell_type": "code",
      "execution_count": null,
      "metadata": {
        "colab": {
          "base_uri": "https://localhost:8080/"
        },
        "id": "-n_5Mv9YxS4f",
        "outputId": "e549e401-d829-40e5-88b7-e87c37b0567a"
      },
      "outputs": [
        {
          "name": "stdout",
          "output_type": "stream",
          "text": [
            "c1      2138\n",
            "c2      2406\n",
            "stim    8376\n",
            "dtype: int64\n"
          ]
        }
      ],
      "source": [
        "print(df.nunique())"
      ]
    },
    {
      "cell_type": "markdown",
      "metadata": {
        "id": "lG_GcyWdDsU8"
      },
      "source": [
        "To find that there are 3774 unique components, we find the length of the set of the list made from combining c1 and c2:"
      ]
    },
    {
      "cell_type": "code",
      "execution_count": null,
      "metadata": {
        "colab": {
          "base_uri": "https://localhost:8080/"
        },
        "id": "0APZqTaZxTG_",
        "outputId": "ad78f415-ea98-44a2-fbfb-47508b7b24f0"
      },
      "outputs": [
        {
          "name": "stdout",
          "output_type": "stream",
          "text": [
            "3774\n"
          ]
        }
      ],
      "source": [
        "L1 = df['c1'].tolist()\n",
        "L2 = df['c2'].tolist()\n",
        "L3 = L1 + L2\n",
        "unique_components = len(set(L3))\n",
        "print(unique_components)"
      ]
    },
    {
      "cell_type": "markdown",
      "metadata": {
        "id": "wuGbs0ezEWhi"
      },
      "source": [
        "Now we will look at the most and least productive components (productive = in the most compounds) in our data set. We can use a Counter object to count how many compounds each component in."
      ]
    },
    {
      "cell_type": "code",
      "execution_count": null,
      "metadata": {
        "colab": {
          "base_uri": "https://localhost:8080/"
        },
        "id": "fV1ne5bQxfE2",
        "outputId": "bf157049-7fc1-465b-cd4e-b7bd8a5deac1"
      },
      "outputs": [
        {
          "output_type": "stream",
          "name": "stdout",
          "text": [
            "['man', 'over', 'fish', 'men', 'head']\n",
            "['abundance', 'acre', 'acres', 'activity', 'actor', 'afternoon', 'age', 'agent', 'agents', 'ages', 'aid', 'aids', 'ailing', 'airmen', 'ales', 'and', 'anxiety', 'apples', 'appraisal', 'asses', 'attraction', 'aunt', 'aunts', 'aware', 'awls', 'babies', 'backer', 'backers', 'bacon', 'balm', 'bandsman', 'bangs', 'basins', 'bather', 'bathers', 'bays', 'beards', 'bearing', 'beaters', 'bedding', 'being', 'belts', 'bend', 'bender', 'berg', 'bergs', 'bid', 'bids', 'bike', 'bikes', 'billies', 'binderies', 'bindery', 'binding', 'bins', 'biter', 'biters', 'bits', 'blacks', 'bladders', 'blades', 'blading', 'blaster', 'blasters', 'blasts', 'blazer', 'blazers', 'bleed', 'bleeds', 'blend', 'blende', 'blindness', 'bloom', 'blot', 'blots', 'blowers', 'blows', 'boating', 'bodice', 'boil', 'boilers', 'boils', 'boom', 'booth', 'booths', 'bore', 'borer', 'boss', 'bottles', 'bound', 'bowman', 'boxing', 'brakes', 'brand', 'brands', 'breadths', 'breasts', 'breed', 'breeder', 'breeding', 'breeds', 'bricking', 'briers', 'buckle', 'buckler', 'bucklers', 'buckles', 'buckling', 'buds', 'bulbs', 'bump', 'burden', 'burdens', 'burners', 'burning', 'bushes', 'butt', 'buttons', 'bye', 'byes', 'cabs', 'cage', 'cages', 'calls', 'caper', 'capes', 'cardiogram', 'carriages', 'carver', 'carvers', 'carves', 'carving', 'carvings', 'cassettes', 'castings', 'castle', 'caters', 'cellar', 'cellars', 'chambers', 'chant', 'chart', 'charts', 'chase', 'chaser', 'chases', 'chats', 'cheater', 'cheaters', 'cherries', 'chief', 'chiefs', 'chlorine', 'choker', 'choline', 'chucks', 'clad', 'claim', 'claims', 'claps', 'clasp', 'clasps', 'classes', 'claws', 'cleaning', 'clerk', 'clerks', 'clips', 'clothing', 'clouds', 'clout', 'clubs', 'coagulator', 'coals', 'coasts', 'coating', 'cobs', 'coddle', 'coddler', 'coddles', 'codes', 'colorist', 'colorists', 'colors', 'comber', 'combers', 'comings', 'confidence', 'coop', 'cords', 'cost', 'cot', 'cotes', 'cots', 'counts', 'craftsman', 'crake', 'crasher', 'crashers', 'crawler', 'credulity', 'crest', 'crewman', 'crib', 'crop', 'cropper', 'croppers', 'crossing', 'crumb', 'crumbs', 'crunch', 'cuffs', 'cultures', 'cupful', 'cupfuls', 'cures', 'current', 'currents', 'cushion', 'cushions', 'cutters', 'cycle', 'cycles', 'cycling', 'cyclist', 'cyclists', 'daddies', 'dallier', 'dancer', 'daunt', 'daunts', 'dealers', 'decks', 'devilry', 'devils', 'dews', 'dial', 'dials', 'dies', 'dig', 'digger', 'diggers', 'digs', 'disc', 'discs', 'disk', 'disks', 'dive', 'diver', 'divers', 'diving', 'doings', 'dos', 'doughs', 'doves', 'downer', 'dragons', 'drake', 'drakes', 'draper', 'drawer', 'drawers', 'dreamer', 'dreamers', 'dreaming', 'dreams', 'dresser', 'dressers', 'dressing', 'drifts', 'drill', 'drills', 'drome', 'dropper', 'droppers', 'duct', 'ducts', 'dusts', 'ease', 'easy', 'eaters', 'eating', 'eats', 'edges', 'effect', 'effects', 'ego', 'egos', 'elfish', 'ell', 'ells', 'emphasis', 'ens', 'essences', 'evaluation', 'evils', 'examples', 'exertion', 'exposures', 'fairs', 'fares', 'fasts', 'feast', 'feasts', 'feeder', 'felt', 'fests', 'fielder', 'fill', 'fills', 'final', 'finals', 'finding', 'fishers', 'fishing', 'fitters', 'fitting', 'flakes', 'flashes', 'flask', 'flier', 'floss', 'flour', 'flowing', 'flows', 'flyer', 'foils', 'forces', 'forest', 'forks', 'form', 'forte', 'fortes', 'fowls', 'fucker', 'fur', 'gage', 'gallant', 'games', 'gammon', 'gap', 'gaps', 'garments', 'gases', 'gathering', 'gays', 'gazer', 'gazers', 'gazing', 'gig', 'gill', 'gills', 'givings', 'gliding', 'glory', 'glove', 'gloves', 'glows', 'goblin', 'goods', 'gown', 'gowns', 'grace', 'graces', 'grad', 'grades', 'grads', 'graduate', 'graduates', 'graining', 'grams', 'grocer', 'grocers', 'grocery', 'groom', 'grounder', 'grounders', 'grounding', 'groves', 'grubber', 'guardsman', 'guides', 'guilt', 'gull', 'gulls', 'halls', 'handler', 'handlers', 'hanging', 'hangs', 'hanks', 'hardiness', 'hares', 'harp', 'harper', 'harpers', 'harps', 'harrow', 'hats', 'haul', 'hauls', 'headers', 'heading', 'heaps', 'heating', 'helves', 'herbs', 'herder', 'herders', 'hewer', 'hides', 'hiker', 'hikers', 'hive', 'hives', 'hoer', 'holing', 'hooting', 'hoots', 'houseman', 'housing', 'hovers', 'hunters', 'husbands', 'husk', 'husker', 'husking', 'iceman', 'icemen', 'ilk', 'image', 'images', 'indulgence', 'ions', 'its', 'jamb', 'jambs', 'jammer', 'jams', 'jerker', 'jets', 'jobber', 'jumping', 'kbit', 'keeps', 'kerchief', 'kerchiefs', 'kettles', 'killers', 'kills', 'kite', 'knight', 'knights', 'knob', 'knobs', 'knockers', 'ladder', 'ladders', 'lancer', 'lancers', 'lances', 'lane', 'lanes', 'lapping', 'laps', 'lasher', 'lass', 'lasting', 'laugh', 'laughs', 'laughter', 'laws', 'layers', 'leaves', 'leech', 'legging', 'lender', 'lenders', 'length', 'lengths', 'letters', 'letting', 'lick', 'licker', 'licks', 'lid', 'lids', 'limb', 'linger', 'lingers', 'lite', 'lives', 'loaders', 'loaves', 'lobes', 'location', 'locker', 'lockers', 'lofts', 'logs', 'looks', 'looms', 'lope', 'lore', 'lovers', 'lubber', 'lubbers', 'luck', 'lucks', 'lungs', 'lusts', 'macadam', 'maidens', 'mailers', 'mallows', 'mane', 'maps', 'marker', 'markets', 'mart', 'mask', 'mason', 'masonry', 'masons', 'masses', 'mastership', 'math', 'maths', 'mats', 'meats', 'medic', 'meet', 'mice', 'mindedness', 'minds', 'minnow', 'mints', 'mom', 'month', 'months', 'mops', 'mount', 'mow', 'mows', 'much', 'muchness', 'muff', 'muffs', 'names', 'napping', 'naturals', 'naught', 'nephew', 'nephews', 'nest', 'nesting', 'niece', 'nieces', 'nip', 'nips', 'nog', 'noons', 'noses', 'not', 'nought', 'ounce', 'own', 'pacer', 'packer', 'packers', 'pages', 'pains', 'pane', 'panes', 'paperer', 'papering', 'parks', 'parts', 'past', 'pastes', 'pasts', 'paw', 'payments', 'pee', 'pennyworth', 'perch', 'performer', 'persons', 'peter', 'phobia', 'photograph', 'phrase', 'phrases', 'pickers', 'picks', 'pikes', 'piling', 'pills', 'piping', 'planing', 'plank', 'planks', 'plankton', 'player', 'players', 'playing', 'plays', 'plight', 'plot', 'plum', 'plums', 'plus', 'pockets', 'pods', 'pointing', 'pone', 'pools', 'population', 'porch', 'pounder', 'pour', 'pours', 'pouts', 'pressure', 'preys', 'pricks', 'printing', 'proofing', 'proofs', 'protection', 'pub', 'pubs', 'pun', 'puncher', 'punchers', 'puppy', 'purse', 'pusher', 'pusses', 'quakes', 'rabbits', 'radish', 'radishes', 'raiser', 'rake', 'raking', 'rates', 'rays', 'reach', 'reaction', 'reactions', 'readers', 'reading', 'ready', 'ream', 'reel', 'reels', 'refinement', 'refold', 'rehouse', 'rehouses', 'remaster', 'rent', 'rents', 'ricks', 'riding', 'rife', 'rise', 'rises', 'roach', 'roaches', 'robber', 'robe', 'robin', 'rocket', 'rockets', 'rocks', 'rods', 'rollers', 'rolling', 'roofs', 'roost', 'roses', 'rover', 'rows', 'royal', 'rug', 'rugs', 'running', 'runs', 'sacking', 'sailing', 'saver', 'savers', 'saving', 'say', 'scarves', 'schools', 'scope', 'scores', 'scotches', 'scraper', 'scrapers', 'scratcher', 'scripts', 'seats', 'secretary', 'section', 'sections', 'seeing', 'seeker', 'selfish', 'send', 'sends', 'server', 'servers', 'shanks', 'shares', 'sharper', 'sharpers', 'shearing', 'shelf', 'shelves', 'sherd', 'shielding', 'shields', 'shifter', 'shiner', 'shiners', 'shipman', 'shock', 'shocks', 'shooting', 'shoots', 'shores', 'showers', 'shrub', 'sights', 'sills', 'sinker', 'sit', 'sits', 'sitters', 'sitting', 'sizing', 'skater', 'skates', 'skipper', 'slapper', 'slappers', 'slasher', 'slayer', 'sledding', 'sleeve', 'sleeves', 'sleigh', 'sleighs', 'slider', 'sliders', 'sliding', 'slogger', 'slope', 'smelt', 'smut', 'snapper', 'snappers', 'snips', 'snuffer', 'sole', 'soles', 'songs', 'sops', 'spacer', 'speakers', 'speck', 'specks', 'spelling', 'spikes', 'spills', 'splitters', 'splitting', 'spore', 'spout', 'spouts', 'springer', 'sprint', 'spun', 'spurs', 'squat', 'stages', 'stain', 'stains', 'stairs', 'stakes', 'stalker', 'stalkers', 'stalking', 'stamp', 'stance', 'stances', 'standing', 'standings', 'starch', 'stations', 'steaks', 'sticking', 'sties', 'stile', 'stiles', 'stills', 'stitches', 'stocking', 'stockings', 'stocks', 'stormer', 'stormers', 'storming', 'straws', 'streak', 'stretch', 'stretches', 'strife', 'stripe', 'stripes', 'stripping', 'strips', 'structure', 'studies', 'study', 'sty', 'stylist', 'stylists', 'such', 'suckle', 'suckles', 'suds', 'sum', 'supplies', 'supply', 'surface', 'sward', 'swat', 'swatter', 'swatters', 'sweepers', 'sweeping', 'sweets', 'swill', 'swimmer', 'swing', 'swings', 'swipe', 'swipes', 'tags', 'takes', 'takings', 'talkers', 'talking', 'tamp', 'tans', 'tapes', 'tapper', 'tappers', 'taps', 'teacher', 'teachers', 'teaks', 'tease', 'teasers', 'teases', 'telephone', 'telling', 'term', 'terms', 'terrier', 'therapist', 'therapy', 'thing', 'things', 'thinker', 'thinkers', 'thinking', 'those', 'thought', 'thoughts', 'throats', 'throb', 'throbs', 'thrower', 'throwers', 'throws', 'ticking', 'tides', 'tiger', 'tiles', 'till', 'tills', 'timer', 'ting', 'titches', 'tits', 'tolerance', 'ton', 'topping', 'torches', 'totter', 'tout', 'towel', 'towels', 'tower', 'towers', 'tows', 'toxin', 'trays', 'treader', 'tripe', 'tripping', 'trips', 'trooper', 'troopers', 'trotter', 'trotters', 'truck', 'tube', 'tuft', 'tup', 'turf', 'uncle', 'uncles', 'urn', 'urns', 'use', 'uses', 'valuations', 'vane', 'vein', 'vendor', 'views', 'ville', 'vines', 'vitae', 'wad', 'wads', 'wagons', 'wains', 'wale', 'wales', 'walling', 'warden', 'wardens', 'wares', 'warming', 'warts', 'washers', 'watcher', 'weal', 'wealth', 'weaving', 'webs', 'weds', 'weep', 'weepers', 'weeping', 'weir', 'wench', 'wester', 'wether', 'wetter', 'whacker', 'whackers', 'wheelers', 'while', 'whipping', 'whisk', 'wicks', 'width', 'widths', 'winder', 'winders', 'winner', 'winners', 'wipes', 'withal', 'witness', 'witnesses', 'wolves', 'woodsman', 'woodsmen', 'wows', 'wrack', 'wrecker', 'wrecks', 'yam', 'zag']\n"
          ]
        }
      ],
      "source": [
        "from collections import Counter\n",
        "most_productive_components = [item for items, c in Counter(L3).most_common()\n",
        "                                      for item in [items] * c]\n",
        "\n",
        "res = []\n",
        "[res.append(x) for x in most_productive_components if x not in res]\n",
        "str(res)\n",
        "print(res[:5])  #Returns 5 most productive components\n",
        "print(res[-994:]) #Returns the 994 least productive components, which each only occur once"
      ]
    },
    {
      "cell_type": "markdown",
      "metadata": {
        "id": "jCjF1zUXE3yY"
      },
      "source": [

      ]
    },
    {
      "cell_type": "code",
      "execution_count": null,
      "metadata": {
        "colab": {
          "base_uri": "https://localhost:8080/"
        },
        "id": "5TCDFNk9xfHd",
        "outputId": "60e86cb0-9c00-4300-98cb-d6aa966e9ac3"
      },
      "outputs": [
        {
          "output_type": "stream",
          "name": "stdout",
          "text": [
            "9.222755694506477\n"
          ]
        }
      ],
      "source": [
        "compounds = df['stim'].tolist()\n",
        "denominator = len(compounds)\n",
        "blank = []\n",
        "\n",
        "for word in compounds:\n",
        "  length = len(word)\n",
        "  blank.append(length)\n",
        "numerator = sum(blank)\n",
        "avg_length = float(numerator) / float(denominator)\n",
        "print(avg_length)\n",
        "#The average length of a compound word in the dataframe is about 9 letters"
      ]
    },
    {
      "cell_type": "markdown",
      "metadata": {
        "id": "TXxdvS8uxmki"
      },
      "source": [
        "# **Data Preprocessing**"
      ]
    },
    {
      "cell_type": "markdown",
      "metadata": {
        "id": "06-ZEUSecfMp"
      },
      "source": [
        "First, we will use an algorithm to generate each possible non one-letter split for every compound and put the splits into the list \"splitted\"."
      ]
    },
    {
      "cell_type": "code",
      "execution_count": null,
      "metadata": {
        "id": "P1rsxZc_MM_w"
      },
      "outputs": [],
      "source": [
        "#Algorithm\n",
        "\n",
        "def split(string):\n",
        "  x = 2\n",
        "  while (x < len(string)-1):\n",
        "      a = string[:x] + ' ' + string[x:]\n",
        "      splitted.append(a)\n",
        "      x = x+1"
      ]
    },
    {
      "cell_type": "code",
      "execution_count": null,
      "metadata": {
        "id": "UZOaug5VQwTc"
      },
      "outputs": [],
      "source": [
        "#Splits all compounds in the dataframe and puts them into the list \"splitted\"\n",
        "splitted = []\n",
        "\n",
        "for word in df['stim']:\n",
        "  split(word)\n",
        "\n",
        "correctly_split = (df['c1'] + ' ' + df['c2']).tolist()\n",
        "\n",
        "for word in correctly_split:\n",
        "  if word in splitted:\n",
        "    splitted.remove(word)"
      ]
    },
    {
      "cell_type": "markdown",
      "metadata": {
        "id": "uyNgn5vid-co"
      },
      "source": [
        "Then we label each split as valid (0) or invalid (1) and put them into a dataframe."
      ]
    },
    {
      "cell_type": "code",
      "execution_count": null,
      "metadata": {
        "colab": {
          "base_uri": "https://localhost:8080/",
          "height": 424
        },
        "id": "7Wy7KPOLMNCX",
        "outputId": "d8e3c025-d73f-4cdb-914d-2450a4afe508"
      },
      "outputs": [
        {
          "output_type": "execute_result",
          "data": {
            "text/plain": [
              "            Splits  Validity\n",
              "0        gad about         1\n",
              "1      knock about         1\n",
              "2       turn about         1\n",
              "3       race about         1\n",
              "4       walk about         1\n",
              "...            ...       ...\n",
              "55728  bricky ards         0\n",
              "55729  brickya rds         0\n",
              "55730  brickyar ds         0\n",
              "55731      zi gzag         0\n",
              "55732      zigz ag         0\n",
              "\n",
              "[55733 rows x 2 columns]"
            ],
            "text/html": [
              "\n",
              "  <div id=\"df-ddcd4017-d552-4d6a-b5e8-a99b4020fbba\">\n",
              "    <div class=\"colab-df-container\">\n",
              "      <div>\n",
              "<style scoped>\n",
              "    .dataframe tbody tr th:only-of-type {\n",
              "        vertical-align: middle;\n",
              "    }\n",
              "\n",
              "    .dataframe tbody tr th {\n",
              "        vertical-align: top;\n",
              "    }\n",
              "\n",
              "    .dataframe thead th {\n",
              "        text-align: right;\n",
              "    }\n",
              "</style>\n",
              "<table border=\"1\" class=\"dataframe\">\n",
              "  <thead>\n",
              "    <tr style=\"text-align: right;\">\n",
              "      <th></th>\n",
              "      <th>Splits</th>\n",
              "      <th>Validity</th>\n",
              "    </tr>\n",
              "  </thead>\n",
              "  <tbody>\n",
              "    <tr>\n",
              "      <th>0</th>\n",
              "      <td>gad about</td>\n",
              "      <td>1</td>\n",
              "    </tr>\n",
              "    <tr>\n",
              "      <th>1</th>\n",
              "      <td>knock about</td>\n",
              "      <td>1</td>\n",
              "    </tr>\n",
              "    <tr>\n",
              "      <th>2</th>\n",
              "      <td>turn about</td>\n",
              "      <td>1</td>\n",
              "    </tr>\n",
              "    <tr>\n",
              "      <th>3</th>\n",
              "      <td>race about</td>\n",
              "      <td>1</td>\n",
              "    </tr>\n",
              "    <tr>\n",
              "      <th>4</th>\n",
              "      <td>walk about</td>\n",
              "      <td>1</td>\n",
              "    </tr>\n",
              "    <tr>\n",
              "      <th>...</th>\n",
              "      <td>...</td>\n",
              "      <td>...</td>\n",
              "    </tr>\n",
              "    <tr>\n",
              "      <th>55728</th>\n",
              "      <td>bricky ards</td>\n",
              "      <td>0</td>\n",
              "    </tr>\n",
              "    <tr>\n",
              "      <th>55729</th>\n",
              "      <td>brickya rds</td>\n",
              "      <td>0</td>\n",
              "    </tr>\n",
              "    <tr>\n",
              "      <th>55730</th>\n",
              "      <td>brickyar ds</td>\n",
              "      <td>0</td>\n",
              "    </tr>\n",
              "    <tr>\n",
              "      <th>55731</th>\n",
              "      <td>zi gzag</td>\n",
              "      <td>0</td>\n",
              "    </tr>\n",
              "    <tr>\n",
              "      <th>55732</th>\n",
              "      <td>zigz ag</td>\n",
              "      <td>0</td>\n",
              "    </tr>\n",
              "  </tbody>\n",
              "</table>\n",
              "<p>55733 rows × 2 columns</p>\n",
              "</div>\n",
              "      <button class=\"colab-df-convert\" onclick=\"convertToInteractive('df-ddcd4017-d552-4d6a-b5e8-a99b4020fbba')\"\n",
              "              title=\"Convert this dataframe to an interactive table.\"\n",
              "              style=\"display:none;\">\n",
              "        \n",
              "  <svg xmlns=\"http://www.w3.org/2000/svg\" height=\"24px\"viewBox=\"0 0 24 24\"\n",
              "       width=\"24px\">\n",
              "    <path d=\"M0 0h24v24H0V0z\" fill=\"none\"/>\n",
              "    <path d=\"M18.56 5.44l.94 2.06.94-2.06 2.06-.94-2.06-.94-.94-2.06-.94 2.06-2.06.94zm-11 1L8.5 8.5l.94-2.06 2.06-.94-2.06-.94L8.5 2.5l-.94 2.06-2.06.94zm10 10l.94 2.06.94-2.06 2.06-.94-2.06-.94-.94-2.06-.94 2.06-2.06.94z\"/><path d=\"M17.41 7.96l-1.37-1.37c-.4-.4-.92-.59-1.43-.59-.52 0-1.04.2-1.43.59L10.3 9.45l-7.72 7.72c-.78.78-.78 2.05 0 2.83L4 21.41c.39.39.9.59 1.41.59.51 0 1.02-.2 1.41-.59l7.78-7.78 2.81-2.81c.8-.78.8-2.07 0-2.86zM5.41 20L4 18.59l7.72-7.72 1.47 1.35L5.41 20z\"/>\n",
              "  </svg>\n",
              "      </button>\n",
              "      \n",
              "  <style>\n",
              "    .colab-df-container {\n",
              "      display:flex;\n",
              "      flex-wrap:wrap;\n",
              "      gap: 12px;\n",
              "    }\n",
              "\n",
              "    .colab-df-convert {\n",
              "      background-color: #E8F0FE;\n",
              "      border: none;\n",
              "      border-radius: 50%;\n",
              "      cursor: pointer;\n",
              "      display: none;\n",
              "      fill: #1967D2;\n",
              "      height: 32px;\n",
              "      padding: 0 0 0 0;\n",
              "      width: 32px;\n",
              "    }\n",
              "\n",
              "    .colab-df-convert:hover {\n",
              "      background-color: #E2EBFA;\n",
              "      box-shadow: 0px 1px 2px rgba(60, 64, 67, 0.3), 0px 1px 3px 1px rgba(60, 64, 67, 0.15);\n",
              "      fill: #174EA6;\n",
              "    }\n",
              "\n",
              "    [theme=dark] .colab-df-convert {\n",
              "      background-color: #3B4455;\n",
              "      fill: #D2E3FC;\n",
              "    }\n",
              "\n",
              "    [theme=dark] .colab-df-convert:hover {\n",
              "      background-color: #434B5C;\n",
              "      box-shadow: 0px 1px 3px 1px rgba(0, 0, 0, 0.15);\n",
              "      filter: drop-shadow(0px 1px 2px rgba(0, 0, 0, 0.3));\n",
              "      fill: #FFFFFF;\n",
              "    }\n",
              "  </style>\n",
              "\n",
              "      <script>\n",
              "        const buttonEl =\n",
              "          document.querySelector('#df-ddcd4017-d552-4d6a-b5e8-a99b4020fbba button.colab-df-convert');\n",
              "        buttonEl.style.display =\n",
              "          google.colab.kernel.accessAllowed ? 'block' : 'none';\n",
              "\n",
              "        async function convertToInteractive(key) {\n",
              "          const element = document.querySelector('#df-ddcd4017-d552-4d6a-b5e8-a99b4020fbba');\n",
              "          const dataTable =\n",
              "            await google.colab.kernel.invokeFunction('convertToInteractive',\n",
              "                                                     [key], {});\n",
              "          if (!dataTable) return;\n",
              "\n",
              "          const docLinkHtml = 'Like what you see? Visit the ' +\n",
              "            '<a target=\"_blank\" href=https://colab.research.google.com/notebooks/data_table.ipynb>data table notebook</a>'\n",
              "            + ' to learn more about interactive tables.';\n",
              "          element.innerHTML = '';\n",
              "          dataTable['output_type'] = 'display_data';\n",
              "          await google.colab.output.renderOutput(dataTable, element);\n",
              "          const docLink = document.createElement('div');\n",
              "          docLink.innerHTML = docLinkHtml;\n",
              "          element.appendChild(docLink);\n",
              "        }\n",
              "      </script>\n",
              "    </div>\n",
              "  </div>\n",
              "  "
            ]
          },
          "metadata": {},
          "execution_count": 10
        }
      ],
      "source": [
        "#Labels each split as 0 or 1 and puts all labelled splits into the dataframe \"df3\"\n",
        "dataframe = pd.DataFrame (splitted, columns = ['Splits'])\n",
        "dataframe.insert(1, 'Validity', 0)\n",
        "df1 = pd.DataFrame (correctly_split, columns = ['Splits'])\n",
        "df1.insert(1, 'Validity', 1)\n",
        "df2 = pd.concat([df1, dataframe], axis = 0)\n",
        "df3 = df2.reset_index()\n",
        "del df3['index']\n",
        "df3"
      ]
    },
    {
      "cell_type": "markdown",
      "metadata": {
        "id": "C4HRwCSLf9QH"
      },
      "source": [
        "Now we vectorize the splits in the dataframe and put their vectorized form into a list, after which we can put the vectorized forms back into a dataframe with their unvectorized counterparts."
      ]
    },
    {
      "cell_type": "code",
      "execution_count": null,
      "metadata": {
        "id": "H3CcUgpKMNE_"
      },
      "outputs": [],
      "source": [
        "#Vectorizes all splits in df3 and puts the vectorized forms into \"Vectors\"\n",
        "Vectors = []\n",
        "nlp = spacy.load('en_core_web_sm')\n",
        "for split in df3['Splits']:\n",
        "  doc = nlp(split)\n",
        "  Vectors.append(doc.vector)"
      ]
    },
    {
      "cell_type": "code",
      "execution_count": null,
      "metadata": {
        "colab": {
          "base_uri": "https://localhost:8080/",
          "height": 627
        },
        "id": "0L0j2tyKMNHn",
        "outputId": "aecfdaea-fada-4588-fbde-558a858c77cf"
      },
      "outputs": [
        {
          "output_type": "execute_result",
          "data": {
            "text/plain": [
              "              0         1         2         3         4         5         6  \\\n",
              "0      0.495227  1.251182  2.025891 -0.311441 -1.436702  0.579851  0.002586   \n",
              "1      0.430599  0.942603  1.597756 -0.273998 -0.948710  0.325434 -0.079493   \n",
              "2      0.582242  0.808537  1.552818  0.021447 -1.438601 -0.183807  0.239319   \n",
              "3      0.902210  0.037001  1.408635  0.045170 -1.197799  0.254348  0.829496   \n",
              "4      0.326254  0.543351  1.263787 -0.281351 -0.966011  0.311930  0.019296   \n",
              "...         ...       ...       ...       ...       ...       ...       ...   \n",
              "55728  0.936775  0.530218 -0.134502 -0.062314 -1.461692  0.756367  0.084495   \n",
              "55729  0.800481  0.035096  0.804107 -0.262561 -0.280078  1.183102  0.126407   \n",
              "55730  0.939690  0.291240  0.741698 -1.003747 -0.175657  0.643417 -0.313476   \n",
              "55731  0.336009  0.158422  0.219018 -0.525613  0.338559  0.218237 -0.199385   \n",
              "55732  3.212654  0.193340  0.734153 -0.735995  0.122127  1.525144 -1.134570   \n",
              "\n",
              "              7         8         9  ...        88        89        90  \\\n",
              "0     -0.276636  0.865848  0.643971  ... -0.123213 -0.558706 -0.814044   \n",
              "1     -0.174435  0.539130  1.455407  ... -0.287082 -0.035809 -0.409452   \n",
              "2     -0.631931  0.974143  1.047185  ...  0.582082 -0.203121 -0.725526   \n",
              "3     -0.618311  0.505440  0.309836  ... -0.298793 -0.341392 -0.132558   \n",
              "4     -0.692937  0.780033  0.615608  ... -0.432454  0.154576 -0.865562   \n",
              "...         ...       ...       ...  ...       ...       ...       ...   \n",
              "55728  0.834164  0.525668 -0.405846  ... -0.415788 -0.076664 -0.181679   \n",
              "55729 -0.321270  1.056598 -0.201523  ... -0.766310 -0.101836 -0.660241   \n",
              "55730 -0.411704 -0.086087 -0.696954  ... -0.815340 -0.097561 -0.435341   \n",
              "55731 -0.056574  0.196192  0.020461  ... -0.168611 -0.165369 -0.445056   \n",
              "55732  0.432449  0.568556 -0.764299  ... -1.075270  0.633956  0.077008   \n",
              "\n",
              "             91        92        93        94        95       Splits  Validity  \n",
              "0      0.145319 -0.061474  0.351872  0.451889 -0.223467    gad about         1  \n",
              "1      0.057734  0.029986 -0.220578  0.166293 -0.610765  knock about         1  \n",
              "2      0.400700 -0.352184 -0.235440  0.411653 -0.635350   turn about         1  \n",
              "3     -0.294195  0.389238  0.192641  0.453822 -0.725066   race about         1  \n",
              "4     -0.632083 -0.181909  0.040150  0.377143 -0.651488   walk about         1  \n",
              "...         ...       ...       ...       ...       ...          ...       ...  \n",
              "55728 -0.084830 -0.062973  1.402637  1.136612 -0.427667  bricky ards         0  \n",
              "55729 -0.642176 -0.169593  1.598005 -0.452147  0.323138  brickya rds         0  \n",
              "55730 -0.889350  0.594332  1.156121  0.316203  0.906124  brickyar ds         0  \n",
              "55731 -1.150315  0.528524  1.537833  0.644822  0.063187      zi gzag         0  \n",
              "55732 -0.257569  0.623872  2.915383  0.027175  2.541238      zigz ag         0  \n",
              "\n",
              "[55733 rows x 98 columns]"
            ],
            "text/html": [
              "\n",
              "  <div id=\"df-698cca16-4641-40f4-a987-6c6476f962c0\">\n",
              "    <div class=\"colab-df-container\">\n",
              "      <div>\n",
              "<style scoped>\n",
              "    .dataframe tbody tr th:only-of-type {\n",
              "        vertical-align: middle;\n",
              "    }\n",
              "\n",
              "    .dataframe tbody tr th {\n",
              "        vertical-align: top;\n",
              "    }\n",
              "\n",
              "    .dataframe thead th {\n",
              "        text-align: right;\n",
              "    }\n",
              "</style>\n",
              "<table border=\"1\" class=\"dataframe\">\n",
              "  <thead>\n",
              "    <tr style=\"text-align: right;\">\n",
              "      <th></th>\n",
              "      <th>0</th>\n",
              "      <th>1</th>\n",
              "      <th>2</th>\n",
              "      <th>3</th>\n",
              "      <th>4</th>\n",
              "      <th>5</th>\n",
              "      <th>6</th>\n",
              "      <th>7</th>\n",
              "      <th>8</th>\n",
              "      <th>9</th>\n",
              "      <th>...</th>\n",
              "      <th>88</th>\n",
              "      <th>89</th>\n",
              "      <th>90</th>\n",
              "      <th>91</th>\n",
              "      <th>92</th>\n",
              "      <th>93</th>\n",
              "      <th>94</th>\n",
              "      <th>95</th>\n",
              "      <th>Splits</th>\n",
              "      <th>Validity</th>\n",
              "    </tr>\n",
              "  </thead>\n",
              "  <tbody>\n",
              "    <tr>\n",
              "      <th>0</th>\n",
              "      <td>0.495227</td>\n",
              "      <td>1.251182</td>\n",
              "      <td>2.025891</td>\n",
              "      <td>-0.311441</td>\n",
              "      <td>-1.436702</td>\n",
              "      <td>0.579851</td>\n",
              "      <td>0.002586</td>\n",
              "      <td>-0.276636</td>\n",
              "      <td>0.865848</td>\n",
              "      <td>0.643971</td>\n",
              "      <td>...</td>\n",
              "      <td>-0.123213</td>\n",
              "      <td>-0.558706</td>\n",
              "      <td>-0.814044</td>\n",
              "      <td>0.145319</td>\n",
              "      <td>-0.061474</td>\n",
              "      <td>0.351872</td>\n",
              "      <td>0.451889</td>\n",
              "      <td>-0.223467</td>\n",
              "      <td>gad about</td>\n",
              "      <td>1</td>\n",
              "    </tr>\n",
              "    <tr>\n",
              "      <th>1</th>\n",
              "      <td>0.430599</td>\n",
              "      <td>0.942603</td>\n",
              "      <td>1.597756</td>\n",
              "      <td>-0.273998</td>\n",
              "      <td>-0.948710</td>\n",
              "      <td>0.325434</td>\n",
              "      <td>-0.079493</td>\n",
              "      <td>-0.174435</td>\n",
              "      <td>0.539130</td>\n",
              "      <td>1.455407</td>\n",
              "      <td>...</td>\n",
              "      <td>-0.287082</td>\n",
              "      <td>-0.035809</td>\n",
              "      <td>-0.409452</td>\n",
              "      <td>0.057734</td>\n",
              "      <td>0.029986</td>\n",
              "      <td>-0.220578</td>\n",
              "      <td>0.166293</td>\n",
              "      <td>-0.610765</td>\n",
              "      <td>knock about</td>\n",
              "      <td>1</td>\n",
              "    </tr>\n",
              "    <tr>\n",
              "      <th>2</th>\n",
              "      <td>0.582242</td>\n",
              "      <td>0.808537</td>\n",
              "      <td>1.552818</td>\n",
              "      <td>0.021447</td>\n",
              "      <td>-1.438601</td>\n",
              "      <td>-0.183807</td>\n",
              "      <td>0.239319</td>\n",
              "      <td>-0.631931</td>\n",
              "      <td>0.974143</td>\n",
              "      <td>1.047185</td>\n",
              "      <td>...</td>\n",
              "      <td>0.582082</td>\n",
              "      <td>-0.203121</td>\n",
              "      <td>-0.725526</td>\n",
              "      <td>0.400700</td>\n",
              "      <td>-0.352184</td>\n",
              "      <td>-0.235440</td>\n",
              "      <td>0.411653</td>\n",
              "      <td>-0.635350</td>\n",
              "      <td>turn about</td>\n",
              "      <td>1</td>\n",
              "    </tr>\n",
              "    <tr>\n",
              "      <th>3</th>\n",
              "      <td>0.902210</td>\n",
              "      <td>0.037001</td>\n",
              "      <td>1.408635</td>\n",
              "      <td>0.045170</td>\n",
              "      <td>-1.197799</td>\n",
              "      <td>0.254348</td>\n",
              "      <td>0.829496</td>\n",
              "      <td>-0.618311</td>\n",
              "      <td>0.505440</td>\n",
              "      <td>0.309836</td>\n",
              "      <td>...</td>\n",
              "      <td>-0.298793</td>\n",
              "      <td>-0.341392</td>\n",
              "      <td>-0.132558</td>\n",
              "      <td>-0.294195</td>\n",
              "      <td>0.389238</td>\n",
              "      <td>0.192641</td>\n",
              "      <td>0.453822</td>\n",
              "      <td>-0.725066</td>\n",
              "      <td>race about</td>\n",
              "      <td>1</td>\n",
              "    </tr>\n",
              "    <tr>\n",
              "      <th>4</th>\n",
              "      <td>0.326254</td>\n",
              "      <td>0.543351</td>\n",
              "      <td>1.263787</td>\n",
              "      <td>-0.281351</td>\n",
              "      <td>-0.966011</td>\n",
              "      <td>0.311930</td>\n",
              "      <td>0.019296</td>\n",
              "      <td>-0.692937</td>\n",
              "      <td>0.780033</td>\n",
              "      <td>0.615608</td>\n",
              "      <td>...</td>\n",
              "      <td>-0.432454</td>\n",
              "      <td>0.154576</td>\n",
              "      <td>-0.865562</td>\n",
              "      <td>-0.632083</td>\n",
              "      <td>-0.181909</td>\n",
              "      <td>0.040150</td>\n",
              "      <td>0.377143</td>\n",
              "      <td>-0.651488</td>\n",
              "      <td>walk about</td>\n",
              "      <td>1</td>\n",
              "    </tr>\n",
              "    <tr>\n",
              "      <th>...</th>\n",
              "      <td>...</td>\n",
              "      <td>...</td>\n",
              "      <td>...</td>\n",
              "      <td>...</td>\n",
              "      <td>...</td>\n",
              "      <td>...</td>\n",
              "      <td>...</td>\n",
              "      <td>...</td>\n",
              "      <td>...</td>\n",
              "      <td>...</td>\n",
              "      <td>...</td>\n",
              "      <td>...</td>\n",
              "      <td>...</td>\n",
              "      <td>...</td>\n",
              "      <td>...</td>\n",
              "      <td>...</td>\n",
              "      <td>...</td>\n",
              "      <td>...</td>\n",
              "      <td>...</td>\n",
              "      <td>...</td>\n",
              "      <td>...</td>\n",
              "    </tr>\n",
              "    <tr>\n",
              "      <th>55728</th>\n",
              "      <td>0.936775</td>\n",
              "      <td>0.530218</td>\n",
              "      <td>-0.134502</td>\n",
              "      <td>-0.062314</td>\n",
              "      <td>-1.461692</td>\n",
              "      <td>0.756367</td>\n",
              "      <td>0.084495</td>\n",
              "      <td>0.834164</td>\n",
              "      <td>0.525668</td>\n",
              "      <td>-0.405846</td>\n",
              "      <td>...</td>\n",
              "      <td>-0.415788</td>\n",
              "      <td>-0.076664</td>\n",
              "      <td>-0.181679</td>\n",
              "      <td>-0.084830</td>\n",
              "      <td>-0.062973</td>\n",
              "      <td>1.402637</td>\n",
              "      <td>1.136612</td>\n",
              "      <td>-0.427667</td>\n",
              "      <td>bricky ards</td>\n",
              "      <td>0</td>\n",
              "    </tr>\n",
              "    <tr>\n",
              "      <th>55729</th>\n",
              "      <td>0.800481</td>\n",
              "      <td>0.035096</td>\n",
              "      <td>0.804107</td>\n",
              "      <td>-0.262561</td>\n",
              "      <td>-0.280078</td>\n",
              "      <td>1.183102</td>\n",
              "      <td>0.126407</td>\n",
              "      <td>-0.321270</td>\n",
              "      <td>1.056598</td>\n",
              "      <td>-0.201523</td>\n",
              "      <td>...</td>\n",
              "      <td>-0.766310</td>\n",
              "      <td>-0.101836</td>\n",
              "      <td>-0.660241</td>\n",
              "      <td>-0.642176</td>\n",
              "      <td>-0.169593</td>\n",
              "      <td>1.598005</td>\n",
              "      <td>-0.452147</td>\n",
              "      <td>0.323138</td>\n",
              "      <td>brickya rds</td>\n",
              "      <td>0</td>\n",
              "    </tr>\n",
              "    <tr>\n",
              "      <th>55730</th>\n",
              "      <td>0.939690</td>\n",
              "      <td>0.291240</td>\n",
              "      <td>0.741698</td>\n",
              "      <td>-1.003747</td>\n",
              "      <td>-0.175657</td>\n",
              "      <td>0.643417</td>\n",
              "      <td>-0.313476</td>\n",
              "      <td>-0.411704</td>\n",
              "      <td>-0.086087</td>\n",
              "      <td>-0.696954</td>\n",
              "      <td>...</td>\n",
              "      <td>-0.815340</td>\n",
              "      <td>-0.097561</td>\n",
              "      <td>-0.435341</td>\n",
              "      <td>-0.889350</td>\n",
              "      <td>0.594332</td>\n",
              "      <td>1.156121</td>\n",
              "      <td>0.316203</td>\n",
              "      <td>0.906124</td>\n",
              "      <td>brickyar ds</td>\n",
              "      <td>0</td>\n",
              "    </tr>\n",
              "    <tr>\n",
              "      <th>55731</th>\n",
              "      <td>0.336009</td>\n",
              "      <td>0.158422</td>\n",
              "      <td>0.219018</td>\n",
              "      <td>-0.525613</td>\n",
              "      <td>0.338559</td>\n",
              "      <td>0.218237</td>\n",
              "      <td>-0.199385</td>\n",
              "      <td>-0.056574</td>\n",
              "      <td>0.196192</td>\n",
              "      <td>0.020461</td>\n",
              "      <td>...</td>\n",
              "      <td>-0.168611</td>\n",
              "      <td>-0.165369</td>\n",
              "      <td>-0.445056</td>\n",
              "      <td>-1.150315</td>\n",
              "      <td>0.528524</td>\n",
              "      <td>1.537833</td>\n",
              "      <td>0.644822</td>\n",
              "      <td>0.063187</td>\n",
              "      <td>zi gzag</td>\n",
              "      <td>0</td>\n",
              "    </tr>\n",
              "    <tr>\n",
              "      <th>55732</th>\n",
              "      <td>3.212654</td>\n",
              "      <td>0.193340</td>\n",
              "      <td>0.734153</td>\n",
              "      <td>-0.735995</td>\n",
              "      <td>0.122127</td>\n",
              "      <td>1.525144</td>\n",
              "      <td>-1.134570</td>\n",
              "      <td>0.432449</td>\n",
              "      <td>0.568556</td>\n",
              "      <td>-0.764299</td>\n",
              "      <td>...</td>\n",
              "      <td>-1.075270</td>\n",
              "      <td>0.633956</td>\n",
              "      <td>0.077008</td>\n",
              "      <td>-0.257569</td>\n",
              "      <td>0.623872</td>\n",
              "      <td>2.915383</td>\n",
              "      <td>0.027175</td>\n",
              "      <td>2.541238</td>\n",
              "      <td>zigz ag</td>\n",
              "      <td>0</td>\n",
              "    </tr>\n",
              "  </tbody>\n",
              "</table>\n",
              "<p>55733 rows × 98 columns</p>\n",
              "</div>\n",
              "      <button class=\"colab-df-convert\" onclick=\"convertToInteractive('df-698cca16-4641-40f4-a987-6c6476f962c0')\"\n",
              "              title=\"Convert this dataframe to an interactive table.\"\n",
              "              style=\"display:none;\">\n",
              "        \n",
              "  <svg xmlns=\"http://www.w3.org/2000/svg\" height=\"24px\"viewBox=\"0 0 24 24\"\n",
              "       width=\"24px\">\n",
              "    <path d=\"M0 0h24v24H0V0z\" fill=\"none\"/>\n",
              "    <path d=\"M18.56 5.44l.94 2.06.94-2.06 2.06-.94-2.06-.94-.94-2.06-.94 2.06-2.06.94zm-11 1L8.5 8.5l.94-2.06 2.06-.94-2.06-.94L8.5 2.5l-.94 2.06-2.06.94zm10 10l.94 2.06.94-2.06 2.06-.94-2.06-.94-.94-2.06-.94 2.06-2.06.94z\"/><path d=\"M17.41 7.96l-1.37-1.37c-.4-.4-.92-.59-1.43-.59-.52 0-1.04.2-1.43.59L10.3 9.45l-7.72 7.72c-.78.78-.78 2.05 0 2.83L4 21.41c.39.39.9.59 1.41.59.51 0 1.02-.2 1.41-.59l7.78-7.78 2.81-2.81c.8-.78.8-2.07 0-2.86zM5.41 20L4 18.59l7.72-7.72 1.47 1.35L5.41 20z\"/>\n",
              "  </svg>\n",
              "      </button>\n",
              "      \n",
              "  <style>\n",
              "    .colab-df-container {\n",
              "      display:flex;\n",
              "      flex-wrap:wrap;\n",
              "      gap: 12px;\n",
              "    }\n",
              "\n",
              "    .colab-df-convert {\n",
              "      background-color: #E8F0FE;\n",
              "      border: none;\n",
              "      border-radius: 50%;\n",
              "      cursor: pointer;\n",
              "      display: none;\n",
              "      fill: #1967D2;\n",
              "      height: 32px;\n",
              "      padding: 0 0 0 0;\n",
              "      width: 32px;\n",
              "    }\n",
              "\n",
              "    .colab-df-convert:hover {\n",
              "      background-color: #E2EBFA;\n",
              "      box-shadow: 0px 1px 2px rgba(60, 64, 67, 0.3), 0px 1px 3px 1px rgba(60, 64, 67, 0.15);\n",
              "      fill: #174EA6;\n",
              "    }\n",
              "\n",
              "    [theme=dark] .colab-df-convert {\n",
              "      background-color: #3B4455;\n",
              "      fill: #D2E3FC;\n",
              "    }\n",
              "\n",
              "    [theme=dark] .colab-df-convert:hover {\n",
              "      background-color: #434B5C;\n",
              "      box-shadow: 0px 1px 3px 1px rgba(0, 0, 0, 0.15);\n",
              "      filter: drop-shadow(0px 1px 2px rgba(0, 0, 0, 0.3));\n",
              "      fill: #FFFFFF;\n",
              "    }\n",
              "  </style>\n",
              "\n",
              "      <script>\n",
              "        const buttonEl =\n",
              "          document.querySelector('#df-698cca16-4641-40f4-a987-6c6476f962c0 button.colab-df-convert');\n",
              "        buttonEl.style.display =\n",
              "          google.colab.kernel.accessAllowed ? 'block' : 'none';\n",
              "\n",
              "        async function convertToInteractive(key) {\n",
              "          const element = document.querySelector('#df-698cca16-4641-40f4-a987-6c6476f962c0');\n",
              "          const dataTable =\n",
              "            await google.colab.kernel.invokeFunction('convertToInteractive',\n",
              "                                                     [key], {});\n",
              "          if (!dataTable) return;\n",
              "\n",
              "          const docLinkHtml = 'Like what you see? Visit the ' +\n",
              "            '<a target=\"_blank\" href=https://colab.research.google.com/notebooks/data_table.ipynb>data table notebook</a>'\n",
              "            + ' to learn more about interactive tables.';\n",
              "          element.innerHTML = '';\n",
              "          dataTable['output_type'] = 'display_data';\n",
              "          await google.colab.output.renderOutput(dataTable, element);\n",
              "          const docLink = document.createElement('div');\n",
              "          docLink.innerHTML = docLinkHtml;\n",
              "          element.appendChild(docLink);\n",
              "        }\n",
              "      </script>\n",
              "    </div>\n",
              "  </div>\n",
              "  "
            ]
          },
          "metadata": {},
          "execution_count": 12
        }
      ],
      "source": [
        "#Creates the dataframe \"dfd\" where splits are labelled with their vectorized forms\n",
        "vectorframe = pd.DataFrame(Vectors)\n",
        "dfd = pd.concat([vectorframe, df3], axis=1, join=\"inner\")\n",
        "dfd"
      ]
    },
    {
      "cell_type": "markdown",
      "metadata": {
        "id": "gI9u1OsggbnI"
      },
      "source": [
        "# Model Training"
      ]
    },
    {
      "cell_type": "markdown",
      "metadata": {
        "id": "LsTeP2lighlM"
      },
      "source": [
        "First we split the data into training, validation, and test sets."
      ]
    },
    {
      "cell_type": "code",
      "execution_count": null,
      "metadata": {
        "id": "vzKpFvKOMNKP"
      },
      "outputs": [],
      "source": [
        "import sklearn\n",
        "from sklearn.model_selection import train_test_split"
      ]
    },
    {
      "cell_type": "code",
      "execution_count": null,
      "metadata": {
        "id": "FgNWLPpIMNNA"
      },
      "outputs": [],
      "source": [
        "#Splits dfd into training, validation, and test sets\n",
        "train, x = train_test_split(dfd, test_size = .2, random_state = 16)\n",
        "validation, test = train_test_split(x, test_size = .5, random_state = 16)"
      ]
    },
    {
      "cell_type": "markdown",
      "metadata": {
        "id": "i20KOEHCgn5X"
      },
      "source": [
        "Then we create the model."
      ]
    },
    {
      "cell_type": "code",
      "execution_count": null,
      "metadata": {
        "id": "nK0EKUyzPm_x"
      },
      "outputs": [],
      "source": [
        "import tensorflow as tf\n",
        "from tensorflow import keras\n",
        "import random\n",
        "random.seed(345)"
      ]
    },
    {
      "cell_type": "code",
      "execution_count": null,
      "metadata": {
        "id": "An29zBl5PnCW"
      },
      "outputs": [],
      "source": [
        "#The neural network architecture:\n",
        "model = keras.Sequential([\n",
        "    keras.layers.Dense(32, input_shape = (96,), activation = 'relu'),\n",
        "    keras.layers.Dropout(.2),\n",
        "    keras.layers.Dense(64, activation = 'relu'),\n",
        "    keras.layers.Dropout(.2),\n",
        "    keras.layers.Dense(32, activation = 'relu'),\n",
        "    keras.layers.Dropout(.2),\n",
        "    keras.layers.Dense(16, activation = 'relu'),\n",
        "    keras.layers.Dropout(.2),\n",
        "    keras.layers.Dense(2, activation = 'sigmoid')])\n",
        "model.compile(optimizer = 'adam',\n",
        "              loss = keras.losses.SparseCategoricalCrossentropy(from_logits = True),\n",
        "              metrics = ['accuracy'])\n"
      ]
    },
    {
      "cell_type": "markdown",
      "metadata": {
        "id": "RE_sO6zkguPr"
      },
      "source": [
        "Then we train the model on the data."
      ]
    },
    {
      "cell_type": "code",
      "execution_count": null,
      "metadata": {
        "id": "0BctH_F-zYlr"
      },
      "outputs": [],
      "source": [
        "x_train = train.iloc[:, 0:96].values\n",
        "y_train = train.Validity.values\n",
        "x_validation = validation.iloc[:, 0:96].values\n",
        "y_validation = validation.Validity.values\n",
        "x_test = test.iloc[:, 0:96].values\n",
        "y_test = test.Validity.values"
      ]
    },
    {
      "cell_type": "code",
      "execution_count": null,
      "metadata": {
        "colab": {
          "base_uri": "https://localhost:8080/"
        },
        "id": "0mK3b9YtzYpL",
        "outputId": "526b1545-cf22-4361-d1a7-b7b5800d3881"
      },
      "outputs": [
        {
          "output_type": "execute_result",
          "data": {
            "text/plain": [
              "<keras.callbacks.History at 0x7fe03f419c90>"
            ]
          },
          "metadata": {},
          "execution_count": 48
        }
      ],
      "source": [
        "#Fits the model on training data\n",
        "model.fit(x_train, y_train, batch_size = 1024, verbose = 0, epochs = 30)"
      ]
    },
    {
      "cell_type": "code",
      "source": [
        "#Prints the accuracy of model on training data\n",
        "print(model.evaluate(x_train, y_train))"
      ],
      "metadata": {
        "colab": {
          "base_uri": "https://localhost:8080/"
        },
        "id": "acGfdLDb9BvC",
        "outputId": "b6de2858-ec6d-4d60-96b7-37dad0cb30bf"
      },
      "execution_count": null,
      "outputs": [
        {
          "output_type": "stream",
          "name": "stdout",
          "text": [
            "1394/1394 [==============================] - 2s 1ms/step - loss: 0.2158 - accuracy: 0.9141\n",
            "[0.21579159796237946, 0.914143443107605]\n"
          ]
        }
      ]
    },
    {
      "cell_type": "code",
      "execution_count": null,
      "metadata": {
        "colab": {
          "base_uri": "https://localhost:8080/"
        },
        "id": "mow0rznKzqZv",
        "outputId": "0552391b-a0ac-4350-f2c3-4e1ac8adeecf"
      },
      "outputs": [
        {
          "name": "stdout",
          "output_type": "stream",
          "text": [
            "175/175 [==============================] - 0s 1ms/step - loss: 0.2650 - accuracy: 0.8875\n",
            "[0.26502200961112976, 0.8874932527542114]\n"
          ]
        }
      ],
      "source": [
        "#Prints the accuracy of model on validation data\n",
        "print(model.evaluate(x_validation, y_validation))"
      ]
    },
    {
      "cell_type": "code",
      "execution_count": null,
      "metadata": {
        "colab": {
          "base_uri": "https://localhost:8080/"
        },
        "id": "4cRzo2N2qi4g",
        "outputId": "7c0d95d9-e77c-434b-c784-f91657f50c97"
      },
      "outputs": [
        {
          "name": "stdout",
          "output_type": "stream",
          "text": [
            "175/175 [==============================] - 0s 1ms/step - loss: 0.2415 - accuracy: 0.8983\n",
            "[0.24145229160785675, 0.8982776999473572]\n"
          ]
        }
      ],
      "source": [
        "#Prints the accuracy of model on test data\n",
        "print(model.evaluate(x_test, y_test))"
      ]
    },
    {
      "cell_type": "markdown",
      "metadata": {
        "id": "kzW2c7csg7GL"
      },
      "source": [
        "Now we can create confusion matrices of the results:"
      ]
    },
    {
      "cell_type": "code",
      "execution_count": null,
      "metadata": {
        "id": "j9li_bTArCYb"
      },
      "outputs": [],
      "source": [
        "import matplotlib.pyplot as plt"
      ]
    },
    {
      "cell_type": "code",
      "execution_count": null,
      "metadata": {
        "id": "gam9mrKeFvWr"
      },
      "outputs": [],
      "source": [
        "#Creates confusion matrix for results on training data and prints accuracy, sensitivity, and specitivity\n",
        "train_pred = model.predict(x_train).argmax(axis = 1)\n",
        "\n",
        "cm = confusion_matrix(y_train,train_pred)\n",
        "print(cm)\n",
        "plt.imshow(cm, cmap='binary')\n",
        "\n",
        "total=sum(sum(cm))\n",
        "\n",
        "accuracy=(cm[0,0]+cm[1,1])/total\n",
        "print ('Accuracy : ', accuracy)\n",
        "\n",
        "specificity = cm[0,0]/(cm[0,0]+cm[0,1])\n",
        "print('Specificity : ', specificity )\n",
        "\n",
        "sensitivity = cm[1,1]/(cm[1,0]+cm[1,1])\n",
        "print('Sensitivity : ', sensitivity)"
      ]
    },
    {
      "cell_type": "code",
      "execution_count": null,
      "metadata": {
        "id": "MIpRcXR1FveY"
      },
      "outputs": [],
      "source": [
        "#Creates confusion matrix for results on validation data and prints accuracy, sensitivity, and specitivity\n",
        "validation_pred = model.predict(x_validation).argmax(axis = 1)\n",
        "\n",
        "cm = confusion_matrix(y_validation,validation_pred)\n",
        "print(cm)\n",
        "plt.imshow(cm, cmap='binary')\n",
        "\n",
        "total=sum(sum(cm))\n",
        "\n",
        "accuracy=(cm[0,0]+cm[1,1])/total\n",
        "print ('Accuracy : ', accuracy)\n",
        "\n",
        "specificity = cm[0,0]/(cm[0,0]+cm[0,1])\n",
        "print('Specificity : ', specificity )\n",
        "\n",
        "sensitivity = cm[1,1]/(cm[1,0]+cm[1,1])\n",
        "print('Sensitivity : ', sensitivity)"
      ]
    },
    {
      "cell_type": "code",
      "execution_count": null,
      "metadata": {
        "colab": {
          "base_uri": "https://localhost:8080/",
          "height": 356
        },
        "id": "8MnGWzXnzqc-",
        "outputId": "73f65d0d-fd02-41f8-be4a-fa8569ea1608"
      },
      "outputs": [
        {
          "name": "stdout",
          "output_type": "stream",
          "text": [
            "[[4481  228]\n",
            " [ 339  526]]\n",
            "Accuracy :  0.8982777179763186\n",
            "Sensitivity :  0.9515820768740709\n",
            "Specificity :  0.608092485549133\n"
          ]
        },
        {
          "data": {
            "image/png": "[encoded data removed]",
            "text/plain": [
              "<Figure size 432x288 with 1 Axes>"
            ]
          },
          "metadata": {},
          "output_type": "display_data"
        }
      ],
      "source": [
        "#Creates confusion matrix for results on test data and prints accuracy, sensitivity, and specitivity\n",
        "p_pred = model.predict(x_test).argmax(axis = 1)\n",
        "\n",
        "cm = confusion_matrix(y_test,p_pred)\n",
        "print(cm)\n",
        "plt.imshow(cm, cmap='binary')\n",
        "\n",
        "total=sum(sum(cm))\n",
        "\n",
        "accuracy=(cm[0,0]+cm[1,1])/total\n",
        "print ('Accuracy : ', accuracy)\n",
        "\n",
        "sensitivity = cm[0,0]/(cm[0,0]+cm[0,1])\n",
        "print('Sensitivity : ', sensitivity )\n",
        "\n",
        "specificity = cm[1,1]/(cm[1,0]+cm[1,1])\n",
        "print('Specificity : ', specificity)"
      ]
    },
    {
      "cell_type": "code",
      "execution_count": null,
      "metadata": {
        "id": "xRZQw8bvsDNn"
      },
      "outputs": [],
      "source": [
        "#Creates a function to make confusion matrices. obtained from https://github.com/DTrimarchi10/confusion_matrix\n",
        "import seaborn as sns\n",
        "def make_confusion_matrix(cf,\n",
        "                          group_names=None,\n",
        "                          categories='auto',\n",
        "                          count=True,\n",
        "                          percent=True,\n",
        "                          cbar=True,\n",
        "                          xyticks=True,\n",
        "                          xyplotlabels=True,\n",
        "                          sum_stats=True,\n",
        "                          figsize=None,\n",
        "                          cmap='Blues',\n",
        "                          title=None):\n",
        "    '''\n",
        "    This function will make a pretty plot of an sklearn Confusion Matrix cm using a Seaborn heatmap visualization.\n",
        "    Arguments\n",
        "    ---------\n",
        "    cf:            confusion matrix to be passed in\n",
        "    group_names:   List of strings that represent the labels row by row to be shown in each square.\n",
        "    categories:    List of strings containing the categories to be displayed on the x,y axis. Default is 'auto'\n",
        "    count:         If True, show the raw number in the confusion matrix. Default is True.\n",
        "    normalize:     If True, show the proportions for each category. Default is True.\n",
        "    cbar:          If True, show the color bar. The cbar values are based off the values in the confusion matrix.\n",
        "                   Default is True.\n",
        "    xyticks:       If True, show x and y ticks. Default is True.\n",
        "    xyplotlabels:  If True, show 'True Label' and 'Predicted Label' on the figure. Default is True.\n",
        "    sum_stats:     If True, display summary statistics below the figure. Default is True.\n",
        "    figsize:       Tuple representing the figure size. Default will be the matplotlib rcParams value.\n",
        "    cmap:          Colormap of the values displayed from matplotlib.pyplot.cm. Default is 'Blues'\n",
        "                   See http://matplotlib.org/examples/color/colormaps_reference.html\n",
        "                   \n",
        "    title:         Title for the heatmap. Default is None.\n",
        "    '''\n",
        "\n",
        "\n",
        "    # CODE TO GENERATE TEXT INSIDE EACH SQUARE\n",
        "    blanks = ['' for i in range(cf.size)]\n",
        "\n",
        "    if group_names and len(group_names)==cf.size:\n",
        "        group_labels = [\"{}\\n\".format(value) for value in group_names]\n",
        "    else:\n",
        "        group_labels = blanks\n",
        "\n",
        "    if count:\n",
        "        group_counts = [\"{0:0.0f}\\n\".format(value) for value in cf.flatten()]\n",
        "    else:\n",
        "        group_counts = blanks\n",
        "\n",
        "    if percent:\n",
        "        group_percentages = [\"{0:.2%}\".format(value) for value in cf.flatten()/np.sum(cf)]\n",
        "    else:\n",
        "        group_percentages = blanks\n",
        "\n",
        "    box_labels = [f\"{v1}{v2}{v3}\".strip() for v1, v2, v3 in zip(group_labels,group_counts,group_percentages)]\n",
        "    box_labels = np.asarray(box_labels).reshape(cf.shape[0],cf.shape[1])\n",
        "\n",
        "\n",
        "    # CODE TO GENERATE SUMMARY STATISTICS & TEXT FOR SUMMARY STATS\n",
        "    if sum_stats:\n",
        "        #Accuracy is sum of diagonal divided by total observations\n",
        "        accuracy  = np.trace(cf) / float(np.sum(cf))\n",
        "\n",
        "        #if it is a binary confusion matrix, show some more stats\n",
        "        if len(cf)==2:\n",
        "            #Metrics for Binary Confusion Matrices\n",
        "            precision = cf[1,1] / sum(cf[:,1])\n",
        "            recall    = cf[1,1] / sum(cf[1,:])\n",
        "            f1_score  = 2*precision*recall / (precision + recall)\n",
        "            stats_text = \"\\n\\nAccuracy={:0.3f}\\nPrecision={:0.3f}\\nRecall={:0.3f}\\nF1 Score={:0.3f}\".format(\n",
        "                accuracy,precision,recall,f1_score)\n",
        "        else:\n",
        "            stats_text = \"\\n\\nAccuracy={:0.3f}\".format(accuracy)\n",
        "    else:\n",
        "        stats_text = \"\"\n",
        "\n",
        "\n",
        "    # SET FIGURE PARAMETERS ACCORDING TO OTHER ARGUMENTS\n",
        "    if figsize==None:\n",
        "        #Get default figure size if not set\n",
        "        figsize = plt.rcParams.get('figure.figsize')\n",
        "\n",
        "    if xyticks==False:\n",
        "        #Do not show categories if xyticks is False\n",
        "        categories=False\n",
        "\n",
        "\n",
        "    # MAKE THE HEATMAP VISUALIZATION\n",
        "    plt.figure(figsize=figsize)\n",
        "    sns.heatmap(cf,annot=box_labels,fmt=\"\",cmap=cmap,cbar=cbar,xticklabels=categories,yticklabels=categories)\n",
        "\n",
        "    if xyplotlabels:\n",
        "        plt.ylabel('True label')\n",
        "        plt.xlabel('Predicted label' + stats_text)\n",
        "    else:\n",
        "        plt.xlabel(stats_text)\n",
        "    \n",
        "    if title:\n",
        "        plt.title(title)"
      ]
    },
    {
      "cell_type": "code",
      "execution_count": null,
      "metadata": {
        "colab": {
          "base_uri": "https://localhost:8080/",
          "height": 295
        },
        "id": "hGGZccUwzYwz",
        "outputId": "04b4b854-ba28-4642-9915-4c292d0d4e94"
      },
      "outputs": [
        {
          "data": {
            "image/png": "[encoded data removed]",
            "text/plain": [
              "<Figure size 432x288 with 1 Axes>"
            ]
          },
          "metadata": {},
          "output_type": "display_data"
        }
      ],
      "source": [
        "\n",
        "labels = ['True Neg','False Pos','False Neg','True Pos']\n",
        "categories = ['Invalid Split', 'Valid Split']\n",
        "make_confusion_matrix(cm, group_names=labels, categories=categories, cbar = False, sum_stats = False, cmap='binary', title='My Two-class CF Matrix')"
      ]
    },
    {
      "cell_type": "markdown",
      "metadata": {
        "id": "9Nam80MNYD3B"
      },
      "source": [
        "# Operationalizing the Model"
      ]
    },
    {
      "cell_type": "markdown",
      "source": [
        "Here I create a function which takes an input as a string (most likely a compound) and outputs what the neural network predicts to be the most likely split."
      ],
      "metadata": {
        "id": "m6RYi_xr_ax1"
      }
    },
    {
      "cell_type": "code",
      "execution_count": null,
      "metadata": {
        "id": "JgvzmbUPYXys"
      },
      "outputs": [],
      "source": [
        "#The function takes a compound, splits it into all non-one-letter splits, then uses the neural network to predict the probability that the split is correct.\n",
        "#Then it prints out the split with the highest probability of being correct.\n",
        "def split_compound(string):\n",
        "  values = []\n",
        "  nlp = spacy.load('en_core_web_sm')\n",
        "  splitted_word = []\n",
        "  x = 2\n",
        "  while (x < len(string)-1):\n",
        "    a = string[:x] + ' ' + string[x:]\n",
        "    splitted_word.append(a)\n",
        "    x = x+1\n",
        "  for split in splitted_word:\n",
        "    doc = nlp(split)\n",
        "    values.append(model.predict(np.reshape(doc.vector, (1,96)), verbose = 0)[0][1])\n",
        "  for split in splitted_word:\n",
        "    doc = nlp(split)\n",
        "    if max(values) == model.predict(np.reshape(doc.vector, (1,96)), verbose = 0)[0][1]:\n",
        "      print(split)"
      ]
    },
    {
      "cell_type": "markdown",
      "metadata": {
        "id": "80sN0fcr2xuW"
      },
      "source": [
        "Here we test a dictionary-based compound splitter, obtained here:https://pypi.org/project/compound-word-splitter/ . However, the splitter only splits words that aren't recognized by pyenchant (spell checker)."
      ]
    },
    {
      "cell_type": "code",
      "source": [
        "pip install compound-word-splitter"
      ],
      "metadata": {
        "colab": {
          "base_uri": "https://localhost:8080/"
        },
        "id": "tTR-zVwgkseF",
        "outputId": "cd87ad58-5534-49ff-f49f-b9c25aa8f8a5"
      },
      "execution_count": null,
      "outputs": [
        {
          "output_type": "stream",
          "name": "stdout",
          "text": [
            "Looking in indexes: https://pypi.org/simple, https://us-python.pkg.dev/colab-wheels/public/simple/\n",
            "Requirement already satisfied: compound-word-splitter in /usr/local/lib/python3.7/dist-packages (0.4)\n"
          ]
        }
      ]
    },
    {
      "cell_type": "code",
      "source": [
        "pip install pyenchant"
      ],
      "metadata": {
        "colab": {
          "base_uri": "https://localhost:8080/"
        },
        "id": "SwkyGAe5k1Ka",
        "outputId": "fd3a7530-d56f-4674-e572-30051cf6ced3"
      },
      "execution_count": null,
      "outputs": [
        {
          "output_type": "stream",
          "name": "stdout",
          "text": [
            "Looking in indexes: https://pypi.org/simple, https://us-python.pkg.dev/colab-wheels/public/simple/\n",
            "Collecting pyenchant\n",
            "  Downloading pyenchant-3.2.2-py3-none-any.whl (55 kB)\n",
            "\u001b[K     |████████████████████████████████| 55 kB 2.9 MB/s \n",
            "\u001b[?25hInstalling collected packages: pyenchant\n",
            "Successfully installed pyenchant-3.2.2\n"
          ]
        }
      ]
    },
    {
      "cell_type": "code",
      "execution_count": null,
      "metadata": {
        "id": "9WhDaSj3YX2z",
        "colab": {
          "base_uri": "https://localhost:8080/"
        },
        "outputId": "68012278-c001-4370-f091-557318103a09"
      },
      "outputs": [
        {
          "output_type": "stream",
          "name": "stdout",
          "text": [
            "Looking in indexes: https://pypi.org/simple, https://us-python.pkg.dev/colab-wheels/public/simple/\n",
            "Requirement already satisfied: wheel in /usr/local/lib/python3.7/dist-packages (0.37.1)\n"
          ]
        }
      ],
      "source": [
        "pip install wheel"
      ]
    },
    {
      "cell_type": "code",
      "source": [
        "!apt update\n",
        "!apt install enchant --fix-missing\n",
        "!apt install -qq enchant\n",
        "!pip install pyenchant"
      ],
      "metadata": {
        "id": "XmAu1Sbil_F2"
      },
      "execution_count": null,
      "outputs": []
    },
    {
      "cell_type": "code",
      "source": [
        "import splitter"
      ],
      "metadata": {
        "id": "SD2y9K3P8REu"
      },
      "execution_count": null,
      "outputs": []
    },
    {
      "cell_type": "markdown",
      "source": [
        "Here we test the dictionary-based splitter on 20 words from the LaDEC"
      ],
      "metadata": {
        "id": "a5Qpbtl68SZP"
      }
    },
    {
      "cell_type": "code",
      "source": [
        "print(splitter.split('wraparound'))\n",
        "print(splitter.split('counterattraction'))\n",
        "print(splitter.split('poleaxe'))\n",
        "print(splitter.split('pallbearer'))\n",
        "print(splitter.split('featherbed'))\n",
        "print(splitter.split('elderberry'))\n",
        "print(splitter.split('countercultures'))\n",
        "print(splitter.split('firedrake'))\n",
        "print(splitter.split('headdress'))\n",
        "print(splitter.split('overestimate'))\n",
        "print(splitter.split('breakfasts'))\n",
        "print(splitter.split('straightjacket'))\n",
        "print(splitter.split('heathland'))\n",
        "print(splitter.split('searchlights'))\n",
        "print(splitter.split('landlubber'))\n",
        "print(splitter.split('cabinetmaker'))\n",
        "print(splitter.split('toolmakers'))\n",
        "print(splitter.split('birthmarks'))\n",
        "print(splitter.split('overmuchness'))\n",
        "print(splitter.split('merestone'))\n"
      ],
      "metadata": {
        "colab": {
          "base_uri": "https://localhost:8080/"
        },
        "id": "PNVwrUwj7ZBl",
        "outputId": "7243d7be-d7b6-41ce-a33c-0a4ba587a8ab"
      },
      "execution_count": null,
      "outputs": [
        {
          "output_type": "stream",
          "name": "stdout",
          "text": [
            "['wraparound']\n",
            "['counter', 'attraction']\n",
            "['poleaxe']\n",
            "['pallbearer']\n",
            "['feather', 'bed']\n",
            "['elderberry']\n",
            "['countercultures']\n",
            "['fired', 'rake']\n",
            "['headdress']\n",
            "['overestimate']\n",
            "['breakfasts']\n",
            "['straight', 'jacket']\n",
            "['heath', 'land']\n",
            "['searchlights']\n",
            "['landlubber']\n",
            "['cabinetmaker']\n",
            "['toolmakers']\n",
            "['birthmarks']\n",
            "['overmuch', 'Ne', 's']\n",
            "['merest', 'one']\n"
          ]
        }
      ]
    },
    {
      "cell_type": "markdown",
      "source": [
        "As you can see, for the compounds \"firedrake\" and \"merestone\", the splitter does return splits that are words in English, however they are not the correct split of the compound. For \"overmuchness\", I have no idea what happened. The rest of the words were either correctly split or recognized by the spell checker and thus not split."
      ],
      "metadata": {
        "id": "fPOQuQWACs7e"
      }
    },
    {
      "cell_type": "code",
      "execution_count": null,
      "metadata": {
        "colab": {
          "base_uri": "https://localhost:8080/"
        },
        "id": "VgAa5hZGsqk2",
        "outputId": "fe44402e-18f6-4cc5-eb07-4bc79c9dc46a"
      },
      "outputs": [
        {
          "output_type": "stream",
          "name": "stdout",
          "text": [
            "wrap around\n",
            "counterattr action\n",
            "pole axe\n",
            "pall bearer\n",
            "feat herbed\n",
            "elder berry\n",
            "count ercultures\n",
            "fire drake\n",
            "head dress\n",
            "over estimate\n",
            "break fasts\n",
            "straightjac ket\n",
            "heat hland\n",
            "sea rchlights\n",
            "land lubber\n",
            "cabinet maker\n",
            "tool makers\n",
            "birth marks\n",
            "over muchness\n",
            "mere stone\n"
          ]
        }
      ],
      "source": [
        "split_compound('wraparound')\n",
        "split_compound('counterattraction')\n",
        "split_compound('poleaxe')\n",
        "split_compound('pallbearer')\n",
        "split_compound('featherbed')\n",
        "split_compound('elderberry')\n",
        "split_compound('countercultures')\n",
        "split_compound('firedrake')\n",
        "split_compound('headdress')\n",
        "split_compound('overestimate')\n",
        "split_compound('breakfasts')\n",
        "split_compound('straightjacket')\n",
        "split_compound('heathland')\n",
        "split_compound('searchlights')\n",
        "split_compound('landlubber')\n",
        "split_compound('cabinetmaker')\n",
        "split_compound('toolmakers')\n",
        "split_compound('birthmarks')\n",
        "split_compound('overmuchness')\n",
        "split_compound('merestone')"
      ]
    },
    {
      "cell_type": "markdown",
      "source": [
        "As you can see, the dictionary-free model is 70% accurate in splitting the above compounds."
      ],
      "metadata": {
        "id": "uP4qcaGxEsOY"
      }
    },
    {
      "cell_type": "markdown",
      "source": [
        "Now, we test the dictionary-based model on a misspelled word:"
      ],
      "metadata": {
        "id": "grOtwJWqFTF2"
      }
    },
    {
      "cell_type": "code",
      "execution_count": null,
      "metadata": {
        "id": "Pep7SkE7utcr",
        "colab": {
          "base_uri": "https://localhost:8080/"
        },
        "outputId": "328c04af-519c-4c1a-ae68-7e25d6cebc5d"
      },
      "outputs": [
        {
          "output_type": "stream",
          "name": "stdout",
          "text": [
            "['sf', 'eat', 'herb', 'ed']\n",
            "\n",
            "['feast', 'herb', 'ed']\n",
            "['feats', 'herb', 'ed']\n",
            "\n",
            "['feat', 'hes', 'Rb', 'ed']\n",
            "['feat', 'herbs', 'ed']\n",
            "['feather', 'be', 'd']\n",
            "['Fe', 'the', 'Rb', 'ed']\n",
            "['Fe', 'ah', 'er', 'bed']\n",
            "['feat', 'er', 'bed']\n",
            "['feat', 'Hebe', 'd']\n"
          ]
        }
      ],
      "source": [
        "print(splitter.split('sfeatherbed'))\n",
        "print(splitter.split('fseatherbed'))\n",
        "print(splitter.split('feastherbed'))\n",
        "print(splitter.split('featsherbed'))\n",
        "print(splitter.split('feathserbed'))\n",
        "print(splitter.split('feathesrbed'))\n",
        "print(splitter.split('featherbsed'))\n",
        "print(splitter.split('featherbesd'))\n",
        "print(splitter.split('fetherbed'))\n",
        "print(splitter.split('feaherbed'))\n",
        "print(splitter.split('featerbed'))\n",
        "print(splitter.split('feathebed'))"
      ]
    },
    {
      "cell_type": "markdown",
      "source": [
        "The dictionary-based model is completely unable to account for a compound with a letter randomly inserted or removed."
      ],
      "metadata": {
        "id": "MjNY7F6pFrEj"
      }
    },
    {
      "cell_type": "markdown",
      "source": [],
      "metadata": {
        "id": "5qZF3keLGBIo"
      }
    },
    {
      "cell_type": "code",
      "source": [
        "split_compound('sfeatherbed')\n",
        "split_compound('fseatherbed')\n",
        "split_compound('feastherbed')\n",
        "split_compound('featsherbed')\n",
        "split_compound('feathserbed')\n",
        "split_compound('feathesrbed')\n",
        "split_compound('featherbsed')\n",
        "split_compound('featherbesd')\n",
        "split_compound('fetherbed')\n",
        "split_compound('feaherbed')\n",
        "split_compound('featerbed')\n",
        "split_compound('feathebed')"
      ],
      "metadata": {
        "colab": {
          "base_uri": "https://localhost:8080/"
        },
        "id": "qyskVVGvFhrD",
        "outputId": "182aef4d-e9de-4bb8-bcf5-76bc230f9e23"
      },
      "execution_count": null,
      "outputs": [
        {
          "output_type": "stream",
          "name": "stdout",
          "text": [
            "sfea therbed\n",
            "fseath erbed\n",
            "feast herbed\n",
            "feat sherbed\n",
            "feat hserbed\n",
            "feath esrbed\n",
            "feath erbsed\n",
            "feath erbesd\n",
            "fet herbed\n",
            "feahe rbed\n",
            "featerb ed\n",
            "feath ebed\n"
          ]
        }
      ]
    },
    {
      "cell_type": "markdown",
      "source": [
        "While none of the above splits, except for \"feast herbed\", are acceptable splits, the model is at least able  to make a reasonable guess as to what the split is, while the dictionary-based model seems to generate totally random splits."
      ],
      "metadata": {
        "id": "sWcSCfENGiUT"
      }
    }
  ],
  "metadata": {
    "colab": {
      "collapsed_sections": [],
      "provenance": []
    },
    "kernelspec": {
      "display_name": "Python 3",
      "name": "python3"
    },
    "language_info": {
      "name": "python"
    }
  },
  "nbformat": 4,
  "nbformat_minor": 0
}
